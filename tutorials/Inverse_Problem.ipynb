{
 "cells": [
  {
   "cell_type": "code",
   "execution_count": null,
   "metadata": {
    "collapsed": true
   },
   "outputs": [],
   "source": [
    "import numpy as np\n",
    "from locData import data_in\n",
    "from locInverseProblem import data_out"
   ]
  },
  {
   "cell_type": "markdown",
   "metadata": {},
   "source": [
    "The goal of this tutorial is to define an inverse problem according to the recordings and the electrode geometry we have. Then we can try out source localization methods. \n",
    "\n",
    "Let's start by loading the data:"
   ]
  },
  {
   "cell_type": "code",
   "execution_count": null,
   "metadata": {
    "collapsed": true
   },
   "outputs": [],
   "source": [
    "# Data path/filename\n",
    "t_ind = 38\n",
    "data_path = '../data/'\n",
    "file_name = data_path + 'data_sim_low.hdf5'\n",
    "\n",
    "data_options = {'flag_cell': True, 'flag_electode': False}\n",
    "data = data_in(file_name, **data_options)"
   ]
  },
  {
   "cell_type": "markdown",
   "metadata": {},
   "source": [
    "And chose the localization parameters. You can check the parameters necessary in the documentation."
   ]
  },
  {
   "cell_type": "code",
   "execution_count": null,
   "metadata": {
    "collapsed": true
   },
   "outputs": [],
   "source": [
    "localization_options = {'p_vres':20, 'p_jlen':0, 'p_erad': 5, 't_ind': 38, 'flag_depthweighted': False}\n",
    "loc = data_out(data, **localization_options)"
   ]
  },
  {
   "cell_type": "markdown",
   "metadata": {},
   "source": [
    "You can see the different functions of of the inverse problem object with iPython easily:\n",
    "\n",
    ">> loc.\n",
    "loc.cmp_fwd_matrix         loc.electrode_pos\n",
    "loc.cmp_inv_matrix         loc.evaluate_localization\n",
    "loc.cmp_resolution_matrix  loc.load_with_pickle\n",
    "loc.cmp_sloreta            loc.options\n",
    "loc.cmp_weight_matrix      loc.t_ind\n",
    "loc.create_voxels          loc.voxels\n",
    "loc.data                   loc.write_with_pickle\n",
    "\n",
    "And chose a function.\n"
   ]
  },
  {
   "cell_type": "code",
   "execution_count": null,
   "metadata": {
    "collapsed": true
   },
   "outputs": [],
   "source": [
    "loc.cmp_sloreta()"
   ]
  },
  {
   "cell_type": "code",
   "execution_count": null,
   "metadata": {
    "collapsed": true
   },
   "outputs": [],
   "source": []
  }
 ],
 "metadata": {
  "kernelspec": {
   "display_name": "Python 2",
   "language": "python",
   "name": "python2"
  },
  "language_info": {
   "codemirror_mode": {
    "name": "ipython",
    "version": 2
   },
   "file_extension": ".py",
   "mimetype": "text/x-python",
   "name": "python",
   "nbconvert_exporter": "python",
   "pygments_lexer": "ipython2",
   "version": "2.7.6"
  }
 },
 "nbformat": 4,
 "nbformat_minor": 0
}
