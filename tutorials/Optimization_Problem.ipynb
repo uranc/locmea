{
 "cells": [
  {
   "cell_type": "code",
   "execution_count": 6,
   "metadata": {
    "collapsed": false
   },
   "outputs": [],
   "source": [
    "import numpy as np\n",
    "import casadi as ca\n",
    "import matplotlib.pyplot as plt\n",
    "import pickle as pc\n",
    "import time\n",
    "import sys\n",
    "import getopt\n",
    "sys.path.insert(1,'../src')\n",
    "from locData import data_in\n",
    "from locInverseProblem import data_out\n",
    "from locOptimizationProblem import opt_out\n",
    "from locView import visualize"
   ]
  },
  {
   "cell_type": "markdown",
   "metadata": {},
   "source": [
    "We start by adding some data from an hdf file.\n",
    "You will also need the python package h5py.\n",
    "The data object keeps the loaded data, electrode geometry, ground truth, and offers some pre-processing functions."
   ]
  },
  {
   "cell_type": "code",
   "execution_count": null,
   "metadata": {
    "collapsed": true
   },
   "outputs": [],
   "source": [
    "# Data path/filename\n",
    "t_ind = 38\n",
    "data_path = '../data/'\n",
    "file_name = data_path + 'data_sim_low.hdf5'\n",
    "\n",
    "data_options = {'flag_cell': True, 'flag_electode': False}\n",
    "data = data_in(file_name, **data_options)"
   ]
  },
  {
   "cell_type": "markdown",
   "metadata": {},
   "source": [
    "Next we define the inverse problem parameters as a dictionary. Parameter's not specified will be filled with default values."
   ]
  },
  {
   "cell_type": "code",
   "execution_count": null,
   "metadata": {
    "collapsed": true
   },
   "outputs": [],
   "source": [
    "localization_options = {'p_vres':20, 'p_jlen':0, 'p_erad': 5, 't_ind': 38, 'flag_depthweighted': False}\n",
    "loc = data_out(data, **localization_options)\n"
   ]
  },
  {
   "cell_type": "markdown",
   "metadata": {},
   "source": [
    "Now we are ready to use different source localization methods."
   ]
  },
  {
   "cell_type": "code",
   "execution_count": null,
   "metadata": {
    "collapsed": true
   },
   "outputs": [],
   "source": [
    "loc.cmp_sloreta()"
   ]
  },
  {
   "cell_type": "markdown",
   "metadata": {},
   "source": [
    "And visualize the results"
   ]
  },
  {
   "cell_type": "code",
   "execution_count": null,
   "metadata": {
    "collapsed": true
   },
   "outputs": [],
   "source": [
    "loc.xres = loc.res[:, t_ind]\n",
    "vis = visualize(data=data, loc=loc)\n",
    "vis.show_snapshot()"
   ]
  },
  {
   "cell_type": "markdown",
   "metadata": {},
   "source": [
    "Alternatively we can use the optimization methods built on top of CasADi package. And initialize the problem."
   ]
  },
  {
   "cell_type": "code",
   "execution_count": null,
   "metadata": {
    "collapsed": true
   },
   "outputs": [],
   "source": [
    "optimization_options = {'p_vres':10, 'p_jlen':0, 'p_erad': 10,\n",
    "                        'solver': p_solver,\n",
    "                        'hessian': p_hessian,\n",
    "                        'linsol': p_linsol,\n",
    "                        'method': p_method,\n",
    "                        't_ind': 35, 't_int': 1, \n",
    "                        'sigma': float(p_sparse),\n",
    "                        'flag_depthweighted': bool(int(p_norm)),\n",
    "                        'flag_parallel': False,\n",
    "                        'datafile_name': 'output_file',\n",
    "                        'flag_lift_mask': False,\n",
    "                        'flag_data_mask': True,\n",
    "                        'flag_callback': True,\n",
    "                        'flag_callback_plot': True,\n",
    "                        'callback_steps': 40,\n",
    "                        'p_dyn': float(p_dynamic)\n",
    "                        }\n",
    "opt = opt_out(data, **optimization_options)"
   ]
  },
  {
   "cell_type": "markdown",
   "metadata": {},
   "source": [
    "And use the optimization method as described in the thesis \"Source localization for high-density microelectrode arrays\" by Cem Uran."
   ]
  },
  {
   "cell_type": "code",
   "execution_count": null,
   "metadata": {
    "collapsed": true
   },
   "outputs": [],
   "source": [
    "opt.set_optimization_variables_thesis()"
   ]
  }
 ],
 "metadata": {
  "kernelspec": {
   "display_name": "Python 2",
   "language": "python",
   "name": "python2"
  },
  "language_info": {
   "codemirror_mode": {
    "name": "ipython",
    "version": 2
   },
   "file_extension": ".py",
   "mimetype": "text/x-python",
   "name": "python",
   "nbconvert_exporter": "python",
   "pygments_lexer": "ipython2",
   "version": "2.7.6"
  }
 },
 "nbformat": 4,
 "nbformat_minor": 0
}
