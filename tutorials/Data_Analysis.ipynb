{
 "cells": [
  {
   "cell_type": "code",
   "execution_count": 1,
   "metadata": {
    "collapsed": false
   },
   "outputs": [
    {
     "ename": "ImportError",
     "evalue": "No module named locData",
     "output_type": "error",
     "traceback": [
      "\u001b[1;31m---------------------------------------------------------------------------\u001b[0m",
      "\u001b[1;31mImportError\u001b[0m                               Traceback (most recent call last)",
      "\u001b[1;32m<ipython-input-1-91c84f3b37ae>\u001b[0m in \u001b[0;36m<module>\u001b[1;34m()\u001b[0m\n\u001b[0;32m      1\u001b[0m \u001b[1;32mimport\u001b[0m \u001b[0mnumpy\u001b[0m \u001b[1;32mas\u001b[0m \u001b[0mnp\u001b[0m\u001b[1;33m\u001b[0m\u001b[0m\n\u001b[1;32m----> 2\u001b[1;33m \u001b[1;32mfrom\u001b[0m \u001b[0mlocData\u001b[0m \u001b[1;32mimport\u001b[0m \u001b[0mdata_in\u001b[0m\u001b[1;33m\u001b[0m\u001b[0m\n\u001b[0m",
      "\u001b[1;31mImportError\u001b[0m: No module named locData"
     ]
    }
   ],
   "source": [
    "import numpy as np\n",
    "from locData import data_in"
   ]
  },
  {
   "cell_type": "markdown",
   "metadata": {},
   "source": [
    "The task in this tutorial is to load some data, visualize, and analyze it. Let's start by adding the data. \n",
    "You can Use data options to load also the cell morphology files, or electrode geometry:"
   ]
  },
  {
   "cell_type": "code",
   "execution_count": null,
   "metadata": {
    "collapsed": true
   },
   "outputs": [],
   "source": [
    "# Data path/filename\n",
    "t_ind = 38\n",
    "data_path = '../data/'\n",
    "file_name = data_path + 'data_sim_low.hdf5'\n",
    "\n",
    "data_options = {'flag_cell': True, 'flag_electode': False}\n",
    "data = data_in(file_name, **data_options)"
   ]
  },
  {
   "cell_type": "markdown",
   "metadata": {},
   "source": [
    "The recordings are loaded into the data object. You can check the functions that are in it:\n",
    "\n",
    "data.car_data           data.cmp_pca_ica        data.flag_cell\n",
    "data.cell_csd           data.electrode_pos      data.load_h5py_data\n",
    "data.cell_pos           data.electrode_rec      data.load_with_pickle\n",
    "data.cell_pos_end       data.epoch_data         data.srate\n",
    "data.cell_pos_start     data.f_name             \n",
    "data.cmp_cov_sensor     data.filter_bpass_data "
   ]
  },
  {
   "cell_type": "code",
   "execution_count": null,
   "metadata": {
    "collapsed": true
   },
   "outputs": [],
   "source": [
    "data.filter_bpass_data([500,2000[])"
   ]
  }
 ],
 "metadata": {
  "kernelspec": {
   "display_name": "Python 2",
   "language": "python",
   "name": "python2"
  },
  "language_info": {
   "codemirror_mode": {
    "name": "ipython",
    "version": 2
   },
   "file_extension": ".py",
   "mimetype": "text/x-python",
   "name": "python",
   "nbconvert_exporter": "python",
   "pygments_lexer": "ipython2",
   "version": "2.7.6"
  }
 },
 "nbformat": 4,
 "nbformat_minor": 0
}
